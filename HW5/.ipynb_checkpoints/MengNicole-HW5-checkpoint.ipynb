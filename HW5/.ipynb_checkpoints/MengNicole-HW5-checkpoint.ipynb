{
 "cells": [
  {
   "cell_type": "markdown",
   "id": "5da41a1d-817c-4a15-a6d5-8e5277dcc360",
   "metadata": {},
   "source": [
    "## COSI123A Homework 5 Nicole Meng\n",
    "\n",
    "Task: There are 10 data sets (5 in folder a and 5  in fold b) in the attached zip file (HW5data.zip). Each data set has a training subset (for example, ‘Train_1a.csv’) and a test subset (for example, ‘TestX_1a.csv’).  Build a regression model using the training subset and apply the model to the test subset. Each row in a data file is a sample. The training data files contain the desired outputs. The headers of the data files indicate the feature columns and the output columns. The test files do not contain the outputs. Save all your prediction results in a file named “hw5_result.csv” following the format provided in the template file “hw5_result_template.csv”.  The order of the predictions in the result file should be the same to the order of their samples in the test file.\n",
    "\n",
    "Requirements: In addition to the result file “hw5_result.csv”, please submit your codes and a written report explaining your preprocessing method if any and your regression model. You can use any existing package/function, and should clearly specify your chosen settings and explain why your choices.\n",
    "\n",
    "Grading: The score will be calculated in the following way. Report takes 30% and prediction performance takes another 70%.  For prediction part, first, the root-mean-square error (RMSE) is calculated for each submission. The RMSEs from all students will be ranked.  The best prediction (i.e., the lowest RMSE) will get 70.  The scores of the rest predictions will be linearly scaled between 66.5 and 35 as:  66.5 – (rank-1)*(66.5 – 35)/(number of students made submissions - 1).  You will receive 0 if you produce random predictions or do not submit your prediction results.\n",
    "\n",
    "Tips: There may exist outliers or redundant variables in the data, you can use any kind of preprocessing method, prediction model and parameter settings you want, but linear regression model is recommended. You may want to use the same method/setting for datasets in folder a, and the same method/setting for datasets in folder b."
   ]
  },
  {
   "cell_type": "code",
   "execution_count": null,
   "id": "4a08b81c-b602-49c1-bcb9-eb1456c9b895",
   "metadata": {},
   "outputs": [],
   "source": []
  }
 ],
 "metadata": {
  "kernelspec": {
   "display_name": "Python 3 (ipykernel)",
   "language": "python",
   "name": "python3"
  },
  "language_info": {
   "codemirror_mode": {
    "name": "ipython",
    "version": 3
   },
   "file_extension": ".py",
   "mimetype": "text/x-python",
   "name": "python",
   "nbconvert_exporter": "python",
   "pygments_lexer": "ipython3",
   "version": "3.8.5"
  }
 },
 "nbformat": 4,
 "nbformat_minor": 5
}
